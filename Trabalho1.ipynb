{
 "cells": [
  {
   "cell_type": "markdown",
   "metadata": {},
   "source": [
    "# Trabalho de Inteligência Artificial I\n",
    "\n",
    "### __ Prof:__ Hitoshi Nagano, Ph.D. "
   ]
  },
  {
   "cell_type": "markdown",
   "metadata": {},
   "source": [
    "### __Aluno:__ João Roberto Perin"
   ]
  },
  {
   "cell_type": "markdown",
   "metadata": {},
   "source": [
    "##  \n",
    "  \n",
    "## Instruções:"
   ]
  },
  {
   "cell_type": "markdown",
   "metadata": {},
   "source": [
    "1) Baixar os datasets em:  https://www.kaggle.com/c/home-credit-default-risk/data\n",
    "\n",
    "2) Explorar conforme instruções:  \n",
    "\n",
    " * __application_train.csv:__ Esse csv possui 122 colunas: explorar 40 colunas sendo as primeiras 30 obrigatórias e 10 adicionais a escolher.\n",
    "  \n",
    " * 30 colunas obrigatórias:  \n",
    "\n",
    ">  SK_ID_CURR  \n",
    ">  TARGET  \n",
    ">  NAME_CONTRACT_TYPE  \n",
    ">  CODE_GENDER  \n",
    ">  FLAG_OWN_CAR  \n",
    ">  FLAG_OWN_REALTY  \n",
    ">  CNT_CHILDREN  \n",
    ">  AMT_INCOME_TOTAL  \n",
    ">  AMT_CREDIT  \n",
    ">  AMT_ANNUITY  \n",
    ">  AMT_GOODS_PRICE  \n",
    ">  NAME_TYPE_SUITE  \n",
    ">  NAME_INCOME_TYPE  \n",
    ">  NAME_EDUCATION_TYPE  \n",
    ">  NAME_FAMILY_STATUS  \n",
    ">  NAME_HOUSING_TYPE  \n",
    ">  REGION_POPULATION_RELATIVE  \n",
    ">  DAYS_BIRTH  \n",
    ">  DAYS_EMPLOYED  \n",
    ">  DAYS_REGISTRATION  \n",
    ">  DAYS_ID_PUBLISH  \n",
    ">  OWN_CAR_AGE  \n",
    ">  FLAG_MOBIL  \n",
    ">  FLAG_EMP_PHONE  \n",
    ">  FLAG_WORK_PHONE  \n",
    ">  FLAG_CONT_MOBILE  \n",
    ">  FLAG_PHONE  \n",
    ">  FLAG_EMAIL   \n",
    ">  OCCUPATION_TYPE  \n",
    ">  CNT_FAM_MEMBERS  \n",
    "       \n",
    " * alunos deverão se organizar para que todas as colunas sejam exploradas\n",
    " * escolher dois arquivos, para exploração e join/merge/concat com o 'application_train.csv'\n",
    " \n",
    ">  HomeCredit_columns_description.csv  \n",
    ">  POS_CASH_balance.csv  \n",
    ">  credit_card_balance.csv  \n",
    ">  installments_payments.csv  \n",
    ">  application_train.csv  \n",
    ">  bureau.csv  \n",
    ">  previous_application.csv  \n",
    ">  bureau_balance.csv  \n",
    ">  sample_submission.csv  \n",
    "\n",
    "3) objetivos:\n",
    "* entendimento do problema de negócio\n",
    "* carregamento do dataset\n",
    "* identificação e tratamento de NaN\n",
    "* exploração univariada, bivariada\n",
    "* visualizações\n",
    "* insights de negócio\n",
    "* formatação do dataset para algoritmos de machine learning\n",
    "* criação de features: agregação de dados, junção de dois ou mais dataframes\n",
    "\n",
    "4) entregável: jupyter notebook. Não será necessário apresentação em powerpoint, nem relatório.\n",
    "\n",
    "5) entrega limite: 8/agosto/2018 \n",
    "\n",
    "6) trabalho individual. Haverá aplicação sistema anti-plágio nas submissões. (http://www.fgv.br/mailing/codigo-etica-conduta/24/)\n",
    "   suspeitas de plágio estarão sujeitos a arguição oral de 5 mins por aluno no ultimo dia de aula (11/agosto/2018),\n",
    "\n",
    "7) avaliação:\n",
    "   - jupyter notebook e arguição (se houver)"
   ]
  },
  {
   "cell_type": "markdown",
   "metadata": {},
   "source": [
    "# Definição das bases de trabalho"
   ]
  },
  {
   "cell_type": "markdown",
   "metadata": {},
   "source": [
    "__Sorteio das bases restantes (+10):__  \n",
    "\n",
    "> REGION_RATING_CLIENT  \n",
    "> FLAG_DOCUMENT_19  \n",
    "> FLAG_DOCUMENT_8  \n",
    "> FLAG_DOCUMENT_4  \n",
    "> NONLIVINGAPARTMENTS_MODE  \n",
    "> ENTRANCES_MEDI  \n",
    "> FLAG_DOCUMENT_21  \n",
    "> HOUR_APPR_PROCESS_START  \n",
    "> LIVINGAPARTMENTS_AVG  \n",
    "> FLOORSMAX_MODE  "
   ]
  },
  {
   "cell_type": "code",
   "execution_count": null,
   "metadata": {},
   "outputs": [],
   "source": []
  }
 ],
 "metadata": {
  "kernelspec": {
   "display_name": "Python 3",
   "language": "python",
   "name": "python3"
  },
  "language_info": {
   "codemirror_mode": {
    "name": "ipython",
    "version": 3
   },
   "file_extension": ".py",
   "mimetype": "text/x-python",
   "name": "python",
   "nbconvert_exporter": "python",
   "pygments_lexer": "ipython3",
   "version": "3.6.5"
  }
 },
 "nbformat": 4,
 "nbformat_minor": 2
}
