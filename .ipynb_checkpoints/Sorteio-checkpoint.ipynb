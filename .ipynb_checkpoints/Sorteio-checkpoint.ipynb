{
 "cells": [
  {
   "cell_type": "code",
   "execution_count": 2,
   "metadata": {},
   "outputs": [
    {
     "name": "stdout",
     "output_type": "stream",
     "text": [
      "1 - SK_ID_CURR\n",
      "2 - TARGET\n",
      "3 - NAME_CONTRACT_TYPE\n",
      "4 - CODE_GENDER\n",
      "5 - FLAG_OWN_CAR\n",
      "6 - FLAG_OWN_REALTY\n",
      "7 - CNT_CHILDREN\n",
      "8 - AMT_INCOME_TOTAL\n",
      "9 - AMT_CREDIT\n",
      "10 - AMT_ANNUITY\n",
      "11 - AMT_GOODS_PRICE\n",
      "12 - NAME_TYPE_SUITE\n",
      "13 - NAME_INCOME_TYPE\n",
      "14 - NAME_EDUCATION_TYPE\n",
      "15 - NAME_FAMILY_STATUS\n",
      "16 - NAME_HOUSING_TYPE\n",
      "17 - REGION_POPULATION_RELATIVE\n",
      "18 - DAYS_BIRTH\n",
      "19 - DAYS_EMPLOYED\n",
      "20 - DAYS_REGISTRATION\n",
      "21 - DAYS_ID_PUBLISH\n",
      "22 - OWN_CAR_AGE\n",
      "23 - FLAG_MOBIL\n",
      "24 - FLAG_EMP_PHONE\n",
      "25 - FLAG_WORK_PHONE\n",
      "26 - FLAG_CONT_MOBILE\n",
      "27 - FLAG_PHONE\n",
      "28 - FLAG_EMAIL\n",
      "29 - OCCUPATION_TYPE\n",
      "30 - CNT_FAM_MEMBERS\n",
      "31 - DEF_30_CNT_SOCIAL_CIRCLE\n",
      "32 - FLAG_DOCUMENT_8\n",
      "33 - FLAG_DOCUMENT_3\n",
      "34 - FLAG_DOCUMENT_15\n",
      "35 - LIVINGAREA_MEDI\n",
      "36 - EMERGENCYSTATE_MODE\n",
      "37 - REGION_RATING_CLIENT_W_CITY\n",
      "38 - FLOORSMIN_AVG\n",
      "39 - FLAG_DOCUMENT_19\n",
      "40 - ORGANIZATION_TYPE\n"
     ]
    }
   ],
   "source": [
    "# ------------- INICIO ----------------\n",
    "\n",
    "import pandas as pd\n",
    "\n",
    "df = pd.read_csv('./data/application_train.csv', index_col=0)\n",
    "\n",
    "# Reset do indice para liberar a coluna SK_ID_CURR\n",
    "df.reset_index(inplace = True)\n",
    "\n",
    "semente = 2306 #Data de aniversário\n",
    "\n",
    "# Pegando as 30 colunas obrigatórias\n",
    "df30 = df.iloc[:,0:30]\n",
    "\n",
    "# Pegando colunas a partir da 31 (30 pq é indice 0) para sorteio\n",
    "df_temp=df.iloc[:,30:]\n",
    "\n",
    "# Sorteio de 10 colunas com a semente Data Aniversario\n",
    "df10 = df_temp.sample(10,axis=1,random_state=semente)\n",
    "\n",
    "# Juntar todas as colunas 30 obrigatorias + 10 do sorteio\n",
    "df40 = pd.concat([df30, df10], axis=1)\n",
    "\n",
    "# Imprimir o resultado:\n",
    "i = 1\n",
    "for x in df40.columns:\n",
    "    print(str(i) + \" - \" + x)\n",
    "    i += 1\n",
    "    \n",
    "# ------------- FIM ----------------"
   ]
  },
  {
   "cell_type": "code",
   "execution_count": null,
   "metadata": {},
   "outputs": [],
   "source": []
  }
 ],
 "metadata": {
  "kernelspec": {
   "display_name": "Python 3",
   "language": "python",
   "name": "python3"
  },
  "language_info": {
   "codemirror_mode": {
    "name": "ipython",
    "version": 3
   },
   "file_extension": ".py",
   "mimetype": "text/x-python",
   "name": "python",
   "nbconvert_exporter": "python",
   "pygments_lexer": "ipython3",
   "version": "3.6.5"
  }
 },
 "nbformat": 4,
 "nbformat_minor": 2
}
